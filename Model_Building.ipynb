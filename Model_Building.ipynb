{
  "cells": [
    {
      "cell_type": "markdown",
      "source": [
        "# **Predictive Analysis with Random Forest**\n",
        "\n",
        "### Stage 3 - Notebook Summary\n",
        "\n",
        "- **Intro**: Overview of the project and data source.\n",
        "- **Setup**: Import libraries, load data, and handle randomness.\n",
        "- **Data Preview**: Quick look at the dataset.\n",
        "- **Feature Keys**: Meaning of feature abbreviations.\n",
        "- **Hypothesis**: Main idea to test with the model.\n",
        "- **Variable Selection**: Define input and target features.\n",
        "- **Data Split**: Separate data into training and test sets.\n",
        "- **Feature Selection**: Use RFE with cross-validation.\n",
        "- **Tuning**: Optimize Random Forest hyperparameters.\n",
        "- **Model Training**: Train and validate on training data.\n",
        "- **Testing**: Final check on test data.\n",
        "- **Conclusion**: Key outcomes and insights."
      ],
      "metadata": {
        "id": "7VXmCE9yj4dc"
      }
    },
    {
      "cell_type": "markdown",
      "metadata": {
        "id": "Ekgvt49A5L1v"
      },
      "source": [
        "### Import essential libraries"
      ]
    },
    {
      "cell_type": "code",
      "execution_count": 1,
      "metadata": {
        "id": "PwW6ELH7Hrel"
      },
      "outputs": [],
      "source": [
        "import pandas as pd\n",
        "import numpy as np\n",
        "import matplotlib.pyplot as plt\n",
        "import sklearn.model_selection as ms\n",
        "from sklearn.model_selection import cross_val_score, train_test_split\n",
        "from sklearn.ensemble import RandomForestRegressor\n",
        "from sklearn.metrics import r2_score, mean_squared_error\n",
        "from sklearn import feature_selection as fs\n",
        "import numpy.random as nr"
      ]
    },
    {
      "cell_type": "code",
      "execution_count": 2,
      "metadata": {
        "id": "yRzmn2S3snN9",
        "colab": {
          "base_uri": "https://localhost:8080/",
          "height": 226
        },
        "outputId": "16da472b-20c9-456f-ac13-cce400971867"
      },
      "outputs": [
        {
          "output_type": "execute_result",
          "data": {
            "text/plain": [
              "  country  year  cereal_yield  fdi_perc_gdp  en_per_gdp    en_per_cap  \\\n",
              "0     AGO  1991         417.4      5.449515  179.271884    565.451027   \n",
              "1     ARE  1991        1594.0      0.076475  245.977706  12262.388130   \n",
              "2     ARG  1991        2666.1      1.285579  173.122857   1434.960601   \n",
              "3     AUS  1991        1603.3      1.306912  208.686644   4926.727783   \n",
              "4     AUT  1991        5463.0      0.209142  128.939160   3381.073790   \n",
              "\n",
              "      co2_ttl  co2_per_cap  co2_per_gdp  pop_urb_aggl_perc  prot_area_perc  \\\n",
              "0    4367.397     0.409949   129.971142          15.290728       12.399822   \n",
              "1   57010.849    29.851550   598.807980          26.377204        0.266886   \n",
              "2  117021.304     3.536073   426.614517          39.119646        4.772468   \n",
              "3  281530.258    16.288490   689.948873          60.356798        7.915273   \n",
              "4   65888.656     8.448456   322.186648          19.746121       20.991143   \n",
              "\n",
              "            gdp  gni_per_cap  under_5_mort_rate  pop_growth_perc         pop  \\\n",
              "0  1.219375e+10        820.0              239.1         3.034866  10653515.0   \n",
              "1  3.391964e+10      19340.0               20.5         5.442852   1909812.0   \n",
              "2  1.897200e+11       3960.0               25.8         1.372593  33093579.0   \n",
              "3  3.299655e+11      18380.0                8.6         1.274577  17284000.0   \n",
              "4  1.721664e+11      21200.0                8.9         1.134999   7798899.0   \n",
              "\n",
              "   urb_pop_growth_perc       urb_pop  \n",
              "0             6.687032  4.099473e+06  \n",
              "1             5.265704  1.507988e+06  \n",
              "2             1.762636  2.890393e+07  \n",
              "3             1.438378  1.478473e+07  \n",
              "4             1.134999  5.131676e+06  "
            ],
            "text/html": [
              "\n",
              "  <div id=\"df-0a2b744b-ecf4-451b-a96c-2995427a3fbf\" class=\"colab-df-container\">\n",
              "    <div>\n",
              "<style scoped>\n",
              "    .dataframe tbody tr th:only-of-type {\n",
              "        vertical-align: middle;\n",
              "    }\n",
              "\n",
              "    .dataframe tbody tr th {\n",
              "        vertical-align: top;\n",
              "    }\n",
              "\n",
              "    .dataframe thead th {\n",
              "        text-align: right;\n",
              "    }\n",
              "</style>\n",
              "<table border=\"1\" class=\"dataframe\">\n",
              "  <thead>\n",
              "    <tr style=\"text-align: right;\">\n",
              "      <th></th>\n",
              "      <th>country</th>\n",
              "      <th>year</th>\n",
              "      <th>cereal_yield</th>\n",
              "      <th>fdi_perc_gdp</th>\n",
              "      <th>en_per_gdp</th>\n",
              "      <th>en_per_cap</th>\n",
              "      <th>co2_ttl</th>\n",
              "      <th>co2_per_cap</th>\n",
              "      <th>co2_per_gdp</th>\n",
              "      <th>pop_urb_aggl_perc</th>\n",
              "      <th>prot_area_perc</th>\n",
              "      <th>gdp</th>\n",
              "      <th>gni_per_cap</th>\n",
              "      <th>under_5_mort_rate</th>\n",
              "      <th>pop_growth_perc</th>\n",
              "      <th>pop</th>\n",
              "      <th>urb_pop_growth_perc</th>\n",
              "      <th>urb_pop</th>\n",
              "    </tr>\n",
              "  </thead>\n",
              "  <tbody>\n",
              "    <tr>\n",
              "      <th>0</th>\n",
              "      <td>AGO</td>\n",
              "      <td>1991</td>\n",
              "      <td>417.4</td>\n",
              "      <td>5.449515</td>\n",
              "      <td>179.271884</td>\n",
              "      <td>565.451027</td>\n",
              "      <td>4367.397</td>\n",
              "      <td>0.409949</td>\n",
              "      <td>129.971142</td>\n",
              "      <td>15.290728</td>\n",
              "      <td>12.399822</td>\n",
              "      <td>1.219375e+10</td>\n",
              "      <td>820.0</td>\n",
              "      <td>239.1</td>\n",
              "      <td>3.034866</td>\n",
              "      <td>10653515.0</td>\n",
              "      <td>6.687032</td>\n",
              "      <td>4.099473e+06</td>\n",
              "    </tr>\n",
              "    <tr>\n",
              "      <th>1</th>\n",
              "      <td>ARE</td>\n",
              "      <td>1991</td>\n",
              "      <td>1594.0</td>\n",
              "      <td>0.076475</td>\n",
              "      <td>245.977706</td>\n",
              "      <td>12262.388130</td>\n",
              "      <td>57010.849</td>\n",
              "      <td>29.851550</td>\n",
              "      <td>598.807980</td>\n",
              "      <td>26.377204</td>\n",
              "      <td>0.266886</td>\n",
              "      <td>3.391964e+10</td>\n",
              "      <td>19340.0</td>\n",
              "      <td>20.5</td>\n",
              "      <td>5.442852</td>\n",
              "      <td>1909812.0</td>\n",
              "      <td>5.265704</td>\n",
              "      <td>1.507988e+06</td>\n",
              "    </tr>\n",
              "    <tr>\n",
              "      <th>2</th>\n",
              "      <td>ARG</td>\n",
              "      <td>1991</td>\n",
              "      <td>2666.1</td>\n",
              "      <td>1.285579</td>\n",
              "      <td>173.122857</td>\n",
              "      <td>1434.960601</td>\n",
              "      <td>117021.304</td>\n",
              "      <td>3.536073</td>\n",
              "      <td>426.614517</td>\n",
              "      <td>39.119646</td>\n",
              "      <td>4.772468</td>\n",
              "      <td>1.897200e+11</td>\n",
              "      <td>3960.0</td>\n",
              "      <td>25.8</td>\n",
              "      <td>1.372593</td>\n",
              "      <td>33093579.0</td>\n",
              "      <td>1.762636</td>\n",
              "      <td>2.890393e+07</td>\n",
              "    </tr>\n",
              "    <tr>\n",
              "      <th>3</th>\n",
              "      <td>AUS</td>\n",
              "      <td>1991</td>\n",
              "      <td>1603.3</td>\n",
              "      <td>1.306912</td>\n",
              "      <td>208.686644</td>\n",
              "      <td>4926.727783</td>\n",
              "      <td>281530.258</td>\n",
              "      <td>16.288490</td>\n",
              "      <td>689.948873</td>\n",
              "      <td>60.356798</td>\n",
              "      <td>7.915273</td>\n",
              "      <td>3.299655e+11</td>\n",
              "      <td>18380.0</td>\n",
              "      <td>8.6</td>\n",
              "      <td>1.274577</td>\n",
              "      <td>17284000.0</td>\n",
              "      <td>1.438378</td>\n",
              "      <td>1.478473e+07</td>\n",
              "    </tr>\n",
              "    <tr>\n",
              "      <th>4</th>\n",
              "      <td>AUT</td>\n",
              "      <td>1991</td>\n",
              "      <td>5463.0</td>\n",
              "      <td>0.209142</td>\n",
              "      <td>128.939160</td>\n",
              "      <td>3381.073790</td>\n",
              "      <td>65888.656</td>\n",
              "      <td>8.448456</td>\n",
              "      <td>322.186648</td>\n",
              "      <td>19.746121</td>\n",
              "      <td>20.991143</td>\n",
              "      <td>1.721664e+11</td>\n",
              "      <td>21200.0</td>\n",
              "      <td>8.9</td>\n",
              "      <td>1.134999</td>\n",
              "      <td>7798899.0</td>\n",
              "      <td>1.134999</td>\n",
              "      <td>5.131676e+06</td>\n",
              "    </tr>\n",
              "  </tbody>\n",
              "</table>\n",
              "</div>\n",
              "    <div class=\"colab-df-buttons\">\n",
              "\n",
              "  <div class=\"colab-df-container\">\n",
              "    <button class=\"colab-df-convert\" onclick=\"convertToInteractive('df-0a2b744b-ecf4-451b-a96c-2995427a3fbf')\"\n",
              "            title=\"Convert this dataframe to an interactive table.\"\n",
              "            style=\"display:none;\">\n",
              "\n",
              "  <svg xmlns=\"http://www.w3.org/2000/svg\" height=\"24px\" viewBox=\"0 -960 960 960\">\n",
              "    <path d=\"M120-120v-720h720v720H120Zm60-500h600v-160H180v160Zm220 220h160v-160H400v160Zm0 220h160v-160H400v160ZM180-400h160v-160H180v160Zm440 0h160v-160H620v160ZM180-180h160v-160H180v160Zm440 0h160v-160H620v160Z\"/>\n",
              "  </svg>\n",
              "    </button>\n",
              "\n",
              "  <style>\n",
              "    .colab-df-container {\n",
              "      display:flex;\n",
              "      gap: 12px;\n",
              "    }\n",
              "\n",
              "    .colab-df-convert {\n",
              "      background-color: #E8F0FE;\n",
              "      border: none;\n",
              "      border-radius: 50%;\n",
              "      cursor: pointer;\n",
              "      display: none;\n",
              "      fill: #1967D2;\n",
              "      height: 32px;\n",
              "      padding: 0 0 0 0;\n",
              "      width: 32px;\n",
              "    }\n",
              "\n",
              "    .colab-df-convert:hover {\n",
              "      background-color: #E2EBFA;\n",
              "      box-shadow: 0px 1px 2px rgba(60, 64, 67, 0.3), 0px 1px 3px 1px rgba(60, 64, 67, 0.15);\n",
              "      fill: #174EA6;\n",
              "    }\n",
              "\n",
              "    .colab-df-buttons div {\n",
              "      margin-bottom: 4px;\n",
              "    }\n",
              "\n",
              "    [theme=dark] .colab-df-convert {\n",
              "      background-color: #3B4455;\n",
              "      fill: #D2E3FC;\n",
              "    }\n",
              "\n",
              "    [theme=dark] .colab-df-convert:hover {\n",
              "      background-color: #434B5C;\n",
              "      box-shadow: 0px 1px 3px 1px rgba(0, 0, 0, 0.15);\n",
              "      filter: drop-shadow(0px 1px 2px rgba(0, 0, 0, 0.3));\n",
              "      fill: #FFFFFF;\n",
              "    }\n",
              "  </style>\n",
              "\n",
              "    <script>\n",
              "      const buttonEl =\n",
              "        document.querySelector('#df-0a2b744b-ecf4-451b-a96c-2995427a3fbf button.colab-df-convert');\n",
              "      buttonEl.style.display =\n",
              "        google.colab.kernel.accessAllowed ? 'block' : 'none';\n",
              "\n",
              "      async function convertToInteractive(key) {\n",
              "        const element = document.querySelector('#df-0a2b744b-ecf4-451b-a96c-2995427a3fbf');\n",
              "        const dataTable =\n",
              "          await google.colab.kernel.invokeFunction('convertToInteractive',\n",
              "                                                    [key], {});\n",
              "        if (!dataTable) return;\n",
              "\n",
              "        const docLinkHtml = 'Like what you see? Visit the ' +\n",
              "          '<a target=\"_blank\" href=https://colab.research.google.com/notebooks/data_table.ipynb>data table notebook</a>'\n",
              "          + ' to learn more about interactive tables.';\n",
              "        element.innerHTML = '';\n",
              "        dataTable['output_type'] = 'display_data';\n",
              "        await google.colab.output.renderOutput(dataTable, element);\n",
              "        const docLink = document.createElement('div');\n",
              "        docLink.innerHTML = docLinkHtml;\n",
              "        element.appendChild(docLink);\n",
              "      }\n",
              "    </script>\n",
              "  </div>\n",
              "\n",
              "\n",
              "    <div id=\"df-bc1154ad-9643-4b68-9ce0-22a02e74dc8c\">\n",
              "      <button class=\"colab-df-quickchart\" onclick=\"quickchart('df-bc1154ad-9643-4b68-9ce0-22a02e74dc8c')\"\n",
              "                title=\"Suggest charts\"\n",
              "                style=\"display:none;\">\n",
              "\n",
              "<svg xmlns=\"http://www.w3.org/2000/svg\" height=\"24px\"viewBox=\"0 0 24 24\"\n",
              "     width=\"24px\">\n",
              "    <g>\n",
              "        <path d=\"M19 3H5c-1.1 0-2 .9-2 2v14c0 1.1.9 2 2 2h14c1.1 0 2-.9 2-2V5c0-1.1-.9-2-2-2zM9 17H7v-7h2v7zm4 0h-2V7h2v10zm4 0h-2v-4h2v4z\"/>\n",
              "    </g>\n",
              "</svg>\n",
              "      </button>\n",
              "\n",
              "<style>\n",
              "  .colab-df-quickchart {\n",
              "      --bg-color: #E8F0FE;\n",
              "      --fill-color: #1967D2;\n",
              "      --hover-bg-color: #E2EBFA;\n",
              "      --hover-fill-color: #174EA6;\n",
              "      --disabled-fill-color: #AAA;\n",
              "      --disabled-bg-color: #DDD;\n",
              "  }\n",
              "\n",
              "  [theme=dark] .colab-df-quickchart {\n",
              "      --bg-color: #3B4455;\n",
              "      --fill-color: #D2E3FC;\n",
              "      --hover-bg-color: #434B5C;\n",
              "      --hover-fill-color: #FFFFFF;\n",
              "      --disabled-bg-color: #3B4455;\n",
              "      --disabled-fill-color: #666;\n",
              "  }\n",
              "\n",
              "  .colab-df-quickchart {\n",
              "    background-color: var(--bg-color);\n",
              "    border: none;\n",
              "    border-radius: 50%;\n",
              "    cursor: pointer;\n",
              "    display: none;\n",
              "    fill: var(--fill-color);\n",
              "    height: 32px;\n",
              "    padding: 0;\n",
              "    width: 32px;\n",
              "  }\n",
              "\n",
              "  .colab-df-quickchart:hover {\n",
              "    background-color: var(--hover-bg-color);\n",
              "    box-shadow: 0 1px 2px rgba(60, 64, 67, 0.3), 0 1px 3px 1px rgba(60, 64, 67, 0.15);\n",
              "    fill: var(--button-hover-fill-color);\n",
              "  }\n",
              "\n",
              "  .colab-df-quickchart-complete:disabled,\n",
              "  .colab-df-quickchart-complete:disabled:hover {\n",
              "    background-color: var(--disabled-bg-color);\n",
              "    fill: var(--disabled-fill-color);\n",
              "    box-shadow: none;\n",
              "  }\n",
              "\n",
              "  .colab-df-spinner {\n",
              "    border: 2px solid var(--fill-color);\n",
              "    border-color: transparent;\n",
              "    border-bottom-color: var(--fill-color);\n",
              "    animation:\n",
              "      spin 1s steps(1) infinite;\n",
              "  }\n",
              "\n",
              "  @keyframes spin {\n",
              "    0% {\n",
              "      border-color: transparent;\n",
              "      border-bottom-color: var(--fill-color);\n",
              "      border-left-color: var(--fill-color);\n",
              "    }\n",
              "    20% {\n",
              "      border-color: transparent;\n",
              "      border-left-color: var(--fill-color);\n",
              "      border-top-color: var(--fill-color);\n",
              "    }\n",
              "    30% {\n",
              "      border-color: transparent;\n",
              "      border-left-color: var(--fill-color);\n",
              "      border-top-color: var(--fill-color);\n",
              "      border-right-color: var(--fill-color);\n",
              "    }\n",
              "    40% {\n",
              "      border-color: transparent;\n",
              "      border-right-color: var(--fill-color);\n",
              "      border-top-color: var(--fill-color);\n",
              "    }\n",
              "    60% {\n",
              "      border-color: transparent;\n",
              "      border-right-color: var(--fill-color);\n",
              "    }\n",
              "    80% {\n",
              "      border-color: transparent;\n",
              "      border-right-color: var(--fill-color);\n",
              "      border-bottom-color: var(--fill-color);\n",
              "    }\n",
              "    90% {\n",
              "      border-color: transparent;\n",
              "      border-bottom-color: var(--fill-color);\n",
              "    }\n",
              "  }\n",
              "</style>\n",
              "\n",
              "      <script>\n",
              "        async function quickchart(key) {\n",
              "          const quickchartButtonEl =\n",
              "            document.querySelector('#' + key + ' button');\n",
              "          quickchartButtonEl.disabled = true;  // To prevent multiple clicks.\n",
              "          quickchartButtonEl.classList.add('colab-df-spinner');\n",
              "          try {\n",
              "            const charts = await google.colab.kernel.invokeFunction(\n",
              "                'suggestCharts', [key], {});\n",
              "          } catch (error) {\n",
              "            console.error('Error during call to suggestCharts:', error);\n",
              "          }\n",
              "          quickchartButtonEl.classList.remove('colab-df-spinner');\n",
              "          quickchartButtonEl.classList.add('colab-df-quickchart-complete');\n",
              "        }\n",
              "        (() => {\n",
              "          let quickchartButtonEl =\n",
              "            document.querySelector('#df-bc1154ad-9643-4b68-9ce0-22a02e74dc8c button');\n",
              "          quickchartButtonEl.style.display =\n",
              "            google.colab.kernel.accessAllowed ? 'block' : 'none';\n",
              "        })();\n",
              "      </script>\n",
              "    </div>\n",
              "\n",
              "    </div>\n",
              "  </div>\n"
            ],
            "application/vnd.google.colaboratory.intrinsic+json": {
              "type": "dataframe",
              "variable_name": "data",
              "summary": "{\n  \"name\": \"data\",\n  \"rows\": 1700,\n  \"fields\": [\n    {\n      \"column\": \"country\",\n      \"properties\": {\n        \"dtype\": \"category\",\n        \"num_unique_values\": 96,\n        \"samples\": [\n          \"WLD\",\n          \"USA\",\n          \"TUR\"\n        ],\n        \"semantic_type\": \"\",\n        \"description\": \"\"\n      }\n    },\n    {\n      \"column\": \"year\",\n      \"properties\": {\n        \"dtype\": \"number\",\n        \"std\": 5,\n        \"min\": 1991,\n        \"max\": 2008,\n        \"num_unique_values\": 18,\n        \"samples\": [\n          1991,\n          1992,\n          1999\n        ],\n        \"semantic_type\": \"\",\n        \"description\": \"\"\n      }\n    },\n    {\n      \"column\": \"cereal_yield\",\n      \"properties\": {\n        \"dtype\": \"number\",\n        \"std\": 1796.2060824631812,\n        \"min\": 175.7,\n        \"max\": 8410.8,\n        \"num_unique_values\": 1671,\n        \"samples\": [\n          986.877511048102,\n          3790.7,\n          1405.2\n        ],\n        \"semantic_type\": \"\",\n        \"description\": \"\"\n      }\n    },\n    {\n      \"column\": \"fdi_perc_gdp\",\n      \"properties\": {\n        \"dtype\": \"number\",\n        \"std\": 3.949722343134754,\n        \"min\": -15.02767537004,\n        \"max\": 51.3739511818767,\n        \"num_unique_values\": 1700,\n        \"samples\": [\n          2.14258982339601,\n          1.51673048693221,\n          1.20816502137744\n        ],\n        \"semantic_type\": \"\",\n        \"description\": \"\"\n      }\n    },\n    {\n      \"column\": \"en_per_gdp\",\n      \"properties\": {\n        \"dtype\": \"number\",\n        \"std\": 186.19501855333274,\n        \"min\": 66.3353718553114,\n        \"max\": 1383.38001129881,\n        \"num_unique_values\": 1700,\n        \"samples\": [\n          320.27358282163,\n          158.408428672463,\n          142.210090242389\n        ],\n        \"semantic_type\": \"\",\n        \"description\": \"\"\n      }\n    },\n    {\n      \"column\": \"en_per_cap\",\n      \"properties\": {\n        \"dtype\": \"number\",\n        \"std\": 1959.4199719827923,\n        \"min\": 116.511475882494,\n        \"max\": 12607.8392616279,\n        \"num_unique_values\": 1700,\n        \"samples\": [\n          669.079477431221,\n          3685.48601509441,\n          1478.04165993322\n        ],\n        \"semantic_type\": \"\",\n        \"description\": \"\"\n      }\n    },\n    {\n      \"column\": \"co2_ttl\",\n      \"properties\": {\n        \"dtype\": \"number\",\n        \"std\": 3235691.6552855456,\n        \"min\": 707.731,\n        \"max\": 30649360.0,\n        \"num_unique_values\": 1664,\n        \"samples\": [\n          1136439.97,\n          114014.364,\n          1108673.446\n        ],\n        \"semantic_type\": \"\",\n        \"description\": \"\"\n      }\n    },\n    {\n      \"column\": \"co2_per_cap\",\n      \"properties\": {\n        \"dtype\": \"number\",\n        \"std\": 4.906272944574699,\n        \"min\": 0.0294107051471301,\n        \"max\": 37.1064994094263,\n        \"num_unique_values\": 1700,\n        \"samples\": [\n          0.824569359577329,\n          10.2023148396513,\n          3.91472559178737\n        ],\n        \"semantic_type\": \"\",\n        \"description\": \"\"\n      }\n    },\n    {\n      \"column\": \"co2_per_gdp\",\n      \"properties\": {\n        \"dtype\": \"number\",\n        \"std\": 392.19223037604155,\n        \"min\": 45.5525917161928,\n        \"max\": 3343.4542497563903,\n        \"num_unique_values\": 1700,\n        \"samples\": [\n          450.325386368977,\n          438.512764924847,\n          376.656148993408\n        ],\n        \"semantic_type\": \"\",\n        \"description\": \"\"\n      }\n    },\n    {\n      \"column\": \"pop_urb_aggl_perc\",\n      \"properties\": {\n        \"dtype\": \"number\",\n        \"std\": 12.10515805877486,\n        \"min\": 3.52631627109587,\n        \"max\": 60.5057797734036,\n        \"num_unique_values\": 1700,\n        \"samples\": [\n          13.4242814658147,\n          25.9465342748643,\n          33.5442294881657\n        ],\n        \"semantic_type\": \"\",\n        \"description\": \"\"\n      }\n    },\n    {\n      \"column\": \"prot_area_perc\",\n      \"properties\": {\n        \"dtype\": \"number\",\n        \"std\": 9.116681708826775,\n        \"min\": 0.0,\n        \"max\": 53.7498250426,\n        \"num_unique_values\": 1155,\n        \"samples\": [\n          0.638015049861,\n          35.9804853358,\n          2.0175877187\n        ],\n        \"semantic_type\": \"\",\n        \"description\": \"\"\n      }\n    },\n    {\n      \"column\": \"gdp\",\n      \"properties\": {\n        \"dtype\": \"number\",\n        \"std\": 3921322534218.2954,\n        \"min\": 982632621.161695,\n        \"max\": 55804879952476.9,\n        \"num_unique_values\": 1700,\n        \"samples\": [\n          755140389607.199,\n          1091751491751.49,\n          363609268789.416\n        ],\n        \"semantic_type\": \"\",\n        \"description\": \"\"\n      }\n    },\n    {\n      \"column\": \"gni_per_cap\",\n      \"properties\": {\n        \"dtype\": \"number\",\n        \"std\": 11592.51693672126,\n        \"min\": 80.0,\n        \"max\": 58620.0,\n        \"num_unique_values\": 1045,\n        \"samples\": [\n          517.23219486648,\n          2670.0,\n          1300.0\n        ],\n        \"semantic_type\": \"\",\n        \"description\": \"\"\n      }\n    },\n    {\n      \"column\": \"under_5_mort_rate\",\n      \"properties\": {\n        \"dtype\": \"number\",\n        \"std\": 51.3321615078083,\n        \"min\": 3.2,\n        \"max\": 239.1,\n        \"num_unique_values\": 994,\n        \"samples\": [\n          27.4,\n          40.9,\n          35.3\n        ],\n        \"semantic_type\": \"\",\n        \"description\": \"\"\n      }\n    },\n    {\n      \"column\": \"pop_growth_perc\",\n      \"properties\": {\n        \"dtype\": \"number\",\n        \"std\": 1.1293124471946432,\n        \"min\": -2.39717356845828,\n        \"max\": 11.1806565039193,\n        \"num_unique_values\": 1697,\n        \"samples\": [\n          2.011720432245,\n          0.270432918783876,\n          1.8444518212442\n        ],\n        \"semantic_type\": \"\",\n        \"description\": \"\"\n      }\n    },\n    {\n      \"column\": \"pop\",\n      \"properties\": {\n        \"dtype\": \"number\",\n        \"std\": 948232863.5278223,\n        \"min\": 1909812.0,\n        \"max\": 6610030272.77736,\n        \"num_unique_values\": 1698,\n        \"samples\": [\n          24667356.0,\n          57580403.0,\n          87523328.0\n        ],\n        \"semantic_type\": \"\",\n        \"description\": \"\"\n      }\n    },\n    {\n      \"column\": \"urb_pop_growth_perc\",\n      \"properties\": {\n        \"dtype\": \"number\",\n        \"std\": 1.6420092976019947,\n        \"min\": -2.75720996097605,\n        \"max\": 12.8290461816591,\n        \"num_unique_values\": 1700,\n        \"samples\": [\n          3.92867053424284,\n          0.33800809874018,\n          2.40000880570444\n        ],\n        \"semantic_type\": \"\",\n        \"description\": \"\"\n      }\n    },\n    {\n      \"column\": \"urb_pop\",\n      \"properties\": {\n        \"dtype\": \"number\",\n        \"std\": 414575542.0780155,\n        \"min\": 1151308.8,\n        \"max\": 3264973515.96769,\n        \"num_unique_values\": 1699,\n        \"samples\": [\n          17380619.0376,\n          51142913.9446,\n          63191842.816\n        ],\n        \"semantic_type\": \"\",\n        \"description\": \"\"\n      }\n    }\n  ]\n}"
            }
          },
          "metadata": {},
          "execution_count": 2
        }
      ],
      "source": [
        "# import the cleaned dataset from a csv file\n",
        "data = pd.read_csv(r'data_cleaned.csv')\n",
        "data.head()"
      ]
    },
    {
      "cell_type": "markdown",
      "source": [
        "### Handling Randomness\n",
        "\n",
        "To ensure repeatable results, randomness in steps like splitting data, cross-validation, and training the Random Forest is controlled by setting `random_state` and fixing the seed using `numpy.random.seed()`.\n"
      ],
      "metadata": {
        "id": "lfeedq-TmStU"
      }
    },
    {
      "cell_type": "code",
      "execution_count": 26,
      "metadata": {
        "id": "-DCd5_rZH9Id"
      },
      "outputs": [],
      "source": [
        "# define a random state number for all random state - ensures reproducibility of all results\n",
        "random_state_num = 0"
      ]
    },
    {
      "cell_type": "markdown",
      "metadata": {
        "id": "2E6-9u59H_Mh"
      },
      "source": [
        "***\n",
        "\n",
        "### Overview of the available data\n",
        "A global overview of the imported data yields the following insights:"
      ]
    },
    {
      "cell_type": "code",
      "execution_count": 4,
      "metadata": {
        "colab": {
          "base_uri": "https://localhost:8080/"
        },
        "id": "EBPrT6HtIBBu",
        "outputId": "daf781ab-f860-4150-8641-f48e0f52c188"
      },
      "outputs": [
        {
          "output_type": "stream",
          "name": "stdout",
          "text": [
            "Shape of the dataset:\n"
          ]
        },
        {
          "output_type": "execute_result",
          "data": {
            "text/plain": [
              "(1700, 18)"
            ]
          },
          "metadata": {},
          "execution_count": 4
        }
      ],
      "source": [
        "print(\"Shape of the dataset:\")\n",
        "data.shape"
      ]
    },
    {
      "cell_type": "code",
      "execution_count": 5,
      "metadata": {
        "colab": {
          "base_uri": "https://localhost:8080/",
          "height": 666
        },
        "id": "78v_sGueIDDJ",
        "outputId": "ee53ea0f-5caf-44af-fb70-2e5078475ade"
      },
      "outputs": [
        {
          "output_type": "stream",
          "name": "stdout",
          "text": [
            "available columns and their data types:\n"
          ]
        },
        {
          "output_type": "execute_result",
          "data": {
            "text/plain": [
              "country                 object\n",
              "year                     int64\n",
              "cereal_yield           float64\n",
              "fdi_perc_gdp           float64\n",
              "en_per_gdp             float64\n",
              "en_per_cap             float64\n",
              "co2_ttl                float64\n",
              "co2_per_cap            float64\n",
              "co2_per_gdp            float64\n",
              "pop_urb_aggl_perc      float64\n",
              "prot_area_perc         float64\n",
              "gdp                    float64\n",
              "gni_per_cap            float64\n",
              "under_5_mort_rate      float64\n",
              "pop_growth_perc        float64\n",
              "pop                    float64\n",
              "urb_pop_growth_perc    float64\n",
              "urb_pop                float64\n",
              "dtype: object"
            ],
            "text/html": [
              "<div>\n",
              "<style scoped>\n",
              "    .dataframe tbody tr th:only-of-type {\n",
              "        vertical-align: middle;\n",
              "    }\n",
              "\n",
              "    .dataframe tbody tr th {\n",
              "        vertical-align: top;\n",
              "    }\n",
              "\n",
              "    .dataframe thead th {\n",
              "        text-align: right;\n",
              "    }\n",
              "</style>\n",
              "<table border=\"1\" class=\"dataframe\">\n",
              "  <thead>\n",
              "    <tr style=\"text-align: right;\">\n",
              "      <th></th>\n",
              "      <th>0</th>\n",
              "    </tr>\n",
              "  </thead>\n",
              "  <tbody>\n",
              "    <tr>\n",
              "      <th>country</th>\n",
              "      <td>object</td>\n",
              "    </tr>\n",
              "    <tr>\n",
              "      <th>year</th>\n",
              "      <td>int64</td>\n",
              "    </tr>\n",
              "    <tr>\n",
              "      <th>cereal_yield</th>\n",
              "      <td>float64</td>\n",
              "    </tr>\n",
              "    <tr>\n",
              "      <th>fdi_perc_gdp</th>\n",
              "      <td>float64</td>\n",
              "    </tr>\n",
              "    <tr>\n",
              "      <th>en_per_gdp</th>\n",
              "      <td>float64</td>\n",
              "    </tr>\n",
              "    <tr>\n",
              "      <th>en_per_cap</th>\n",
              "      <td>float64</td>\n",
              "    </tr>\n",
              "    <tr>\n",
              "      <th>co2_ttl</th>\n",
              "      <td>float64</td>\n",
              "    </tr>\n",
              "    <tr>\n",
              "      <th>co2_per_cap</th>\n",
              "      <td>float64</td>\n",
              "    </tr>\n",
              "    <tr>\n",
              "      <th>co2_per_gdp</th>\n",
              "      <td>float64</td>\n",
              "    </tr>\n",
              "    <tr>\n",
              "      <th>pop_urb_aggl_perc</th>\n",
              "      <td>float64</td>\n",
              "    </tr>\n",
              "    <tr>\n",
              "      <th>prot_area_perc</th>\n",
              "      <td>float64</td>\n",
              "    </tr>\n",
              "    <tr>\n",
              "      <th>gdp</th>\n",
              "      <td>float64</td>\n",
              "    </tr>\n",
              "    <tr>\n",
              "      <th>gni_per_cap</th>\n",
              "      <td>float64</td>\n",
              "    </tr>\n",
              "    <tr>\n",
              "      <th>under_5_mort_rate</th>\n",
              "      <td>float64</td>\n",
              "    </tr>\n",
              "    <tr>\n",
              "      <th>pop_growth_perc</th>\n",
              "      <td>float64</td>\n",
              "    </tr>\n",
              "    <tr>\n",
              "      <th>pop</th>\n",
              "      <td>float64</td>\n",
              "    </tr>\n",
              "    <tr>\n",
              "      <th>urb_pop_growth_perc</th>\n",
              "      <td>float64</td>\n",
              "    </tr>\n",
              "    <tr>\n",
              "      <th>urb_pop</th>\n",
              "      <td>float64</td>\n",
              "    </tr>\n",
              "  </tbody>\n",
              "</table>\n",
              "</div><br><label><b>dtype:</b> object</label>"
            ]
          },
          "metadata": {},
          "execution_count": 5
        }
      ],
      "source": [
        "print(\"available columns and their data types:\")\n",
        "data.dtypes"
      ]
    },
    {
      "cell_type": "markdown",
      "metadata": {
        "id": "d4wNTk5PIOx_"
      },
      "source": [
        "### Dealing with outliers\n",
        "\n",
        "A consistent group of outliers—mostly separate from the main data cluster—was identified, primarily belonging to the United Arab Emirates (ARE). To improve model clarity and interpretability, these outliers will be excluded from further analysis.\n"
      ]
    },
    {
      "cell_type": "code",
      "execution_count": 6,
      "metadata": {
        "colab": {
          "base_uri": "https://localhost:8080/"
        },
        "id": "7Xqwbx_SIRaP",
        "outputId": "609662c9-1167-49a5-f4fd-96df53d60dde"
      },
      "outputs": [
        {
          "output_type": "stream",
          "name": "stdout",
          "text": [
            "Shape of the dataset after removing the ARE outliers:\n"
          ]
        },
        {
          "output_type": "execute_result",
          "data": {
            "text/plain": [
              "(1686, 18)"
            ]
          },
          "metadata": {},
          "execution_count": 6
        }
      ],
      "source": [
        "# remove the ARE outliers\n",
        "data = data[data['country']!='ARE']\n",
        "\n",
        "# print shape after removing the outliers\n",
        "print(\"Shape of the dataset after removing the ARE outliers:\")\n",
        "data.shape"
      ]
    },
    {
      "cell_type": "markdown",
      "source": [
        "### Hypothesis\n",
        "\n",
        "CO₂ emissions are likely shaped by country-level indicators such as energy use, GDP, population stats, and cereal yield. The hypothesis is that these variables can help predict CO₂ emissions.\n",
        "\n",
        "### Variable Selection\n",
        "\n",
        "- **Target (Dependent) Variable**  \n",
        "  `co2_percap`: CO₂ emissions per capita (metric tons)\n",
        "\n",
        "- **Features (Independent Variables)**  \n",
        "  - `cereal_yield`: Cereal yield (kg per hectare)  \n",
        "  - `fdi_perc_gdp`: FDI inflows (% of GDP)  \n",
        "  - `gni_per_cap`: GNI per capita (Atlas)  \n",
        "  - `en_per_cap`: Energy use per capita (kg oil equivalent)  \n",
        "  - `pop_urb_aggl_perc`: Urban population >1M (%)  \n",
        "  - `prot_area_perc`: Protected land area (%)  \n",
        "  - `gdp`: Gross Domestic Product ($)  \n",
        "  - `pop_growth_perc`: Annual population growth (%)  \n",
        "  - `urb_pop_growth_perc`: Urban population growth (%)  \n",
        "\n",
        "These are organized into input features and a target label, then converted into NumPy arrays for model training. The target is referred to as `label` or `labels` in code."
      ],
      "metadata": {
        "id": "IHje7Fl_ml2B"
      }
    },
    {
      "cell_type": "code",
      "execution_count": 27,
      "metadata": {
        "id": "ZZSHLEn-IYO3"
      },
      "outputs": [],
      "source": [
        "# choose features and label columns\n",
        "feature_cols = ['cereal_yield','fdi_perc_gdp','gni_per_cap', 'en_per_cap',\n",
        "                'pop_urb_aggl_perc', 'prot_area_perc', 'pop_growth_perc', 'urb_pop_growth_perc']\n",
        "label_col = ['co2_per_cap']\n",
        "\n",
        "# convert into nympy arrays (required for scikit-learn models)\n",
        "features = np.array(data[feature_cols])\n",
        "labels =  np.array(data[label_col])"
      ]
    },
    {
      "cell_type": "code",
      "execution_count": 28,
      "metadata": {
        "colab": {
          "base_uri": "https://localhost:8080/"
        },
        "id": "CPPN1Ritgmp3",
        "outputId": "b11998e2-db22-4f25-c026-5d8898411d90"
      },
      "outputs": [
        {
          "output_type": "execute_result",
          "data": {
            "text/plain": [
              "array([[4.17400000e+02, 5.44951458e+00, 8.20000000e+02, ...,\n",
              "        1.23998220e+01, 3.03486601e+00, 6.68703163e+00],\n",
              "       [2.66610000e+03, 1.28557882e+00, 3.96000000e+03, ...,\n",
              "        4.77246763e+00, 1.37259322e+00, 1.76263616e+00],\n",
              "       [1.60330000e+03, 1.30691206e+00, 1.83800000e+04, ...,\n",
              "        7.91527300e+00, 1.27457750e+00, 1.43837778e+00],\n",
              "       ...,\n",
              "       [4.05530000e+03, 3.50366162e+00, 5.86000000e+03, ...,\n",
              "        6.85955008e+00, 1.10405722e+00, 1.89744981e+00],\n",
              "       [7.71500000e+02, 1.47989700e+01, 1.60000000e+02, ...,\n",
              "        9.98656658e+00, 2.76328559e+00, 4.60583400e+00],\n",
              "       [2.14400000e+03, 6.41099075e+00, 9.70000000e+02, ...,\n",
              "        3.59830177e+01, 2.65395608e+00, 3.04999620e+00]])"
            ]
          },
          "metadata": {},
          "execution_count": 28
        }
      ],
      "source": [
        "features"
      ]
    },
    {
      "cell_type": "markdown",
      "metadata": {
        "id": "POXSBBQoIbh3"
      },
      "source": [
        "***\n",
        "\n",
        "### Train-Test Split and Cross-Validation\n",
        "\n",
        "To validate the model on unseen data, the dataset is split into training and testing sets with an 80:20 ratio. To improve generalization, cross-validation is applied on the training set for feature selection, hyperparameter tuning, and performance evaluation.\n",
        "\n",
        "The dataset split is performed in the following code snippet:\n"
      ]
    },
    {
      "cell_type": "code",
      "execution_count": 9,
      "metadata": {
        "id": "sEhtu8kWIdWY"
      },
      "outputs": [],
      "source": [
        "# split into training and testing subsets\n",
        "nr.seed(1)\n",
        "features_train, features_test, labels_train, labels_test = train_test_split(features,\n",
        "                                                                            labels,\n",
        "                                                                            test_size=0.2,\n",
        "                                                                            random_state=random_state_num)"
      ]
    },
    {
      "cell_type": "markdown",
      "metadata": {
        "id": "mJ7kjiUAIgGX"
      },
      "source": [
        "### Scaling of Features\n",
        "\n",
        "Algorithms like Linear and Logistic Regression require feature scaling to avoid bias from variables with larger ranges. However, since Random Forest relies on decision trees and not regression coefficients, scaling is not necessary in this case.\n",
        "\n",
        "---\n",
        "\n",
        "### Feature Selection with Cross-Validation\n",
        "\n",
        "Using too many or redundant features can lead to overfitting, reduced model performance, and unnecessary complexity. To address this:\n",
        "\n",
        "- Irrelevant or weakly predictive features are removed.\n",
        "- Multicollinearity is reduced by eliminating highly correlated variables.\n",
        "- Model generalization is improved by selecting only the most relevant features.\n",
        "\n",
        "Feature selection is performed using `RFECV` from `sklearn.feature_selection`, which applies Recursive Feature Elimination with Cross-Validation (based on R² score) to rank and retain top features. The resulting reduced sets are used for training and testing (`features_train_reduced` and `features_test_reduced`).\n"
      ]
    },
    {
      "cell_type": "code",
      "execution_count": 10,
      "metadata": {
        "colab": {
          "base_uri": "https://localhost:8080/"
        },
        "id": "c2JePr-MIfm_",
        "outputId": "e6a50561-84f5-40f2-99b0-3cebc5a7914e"
      },
      "outputs": [
        {
          "output_type": "stream",
          "name": "stdout",
          "text": [
            "Feature ranking after RFECV:\n",
            "[1 2 1 1 1 1 1 1]\n",
            "Chosen important features:\n",
            "['cereal_yield', 'gni_per_cap', 'en_per_cap', 'pop_urb_aggl_perc', 'prot_area_perc', 'pop_growth_perc', 'urb_pop_growth_perc']\n"
          ]
        }
      ],
      "source": [
        "# Set folds for cross validation for the feature selection\n",
        "nr.seed(1)\n",
        "feature_folds = ms.KFold(n_splits=4, shuffle = True, random_state=random_state_num)\n",
        "\n",
        "# Define the model\n",
        "rf_selector = RandomForestRegressor(random_state=random_state_num)\n",
        "\n",
        "# Define an objects for a model for recursive feature elimination with CV\n",
        "nr.seed(1)\n",
        "selector = fs.RFECV(estimator = rf_selector, cv = feature_folds, scoring = 'r2', n_jobs=-1)\n",
        "\n",
        "selector = selector.fit(features_train, np.ravel(labels_train))\n",
        "\n",
        "selector.support_\n",
        "print(\"Feature ranking after RFECV:\")\n",
        "print(selector.ranking_)\n",
        "\n",
        "# print the important features\n",
        "ranks_transform = list(np.transpose(selector.ranking_))\n",
        "chosen_features = [i for i,j in zip(feature_cols,ranks_transform) if j==1]\n",
        "print(\"Chosen important features:\")\n",
        "print(chosen_features)"
      ]
    },
    {
      "cell_type": "markdown",
      "metadata": {
        "id": "EndvyE_wIj5I"
      },
      "source": [
        "According to the feature rankings, the important parameters for this data set (with ranking 1) are 'cereal_yield', 'en_per_cap', 'pop_urb_aggl_perc', 'prot_area_perc', 'pop_growth_perc'.\n",
        "\n",
        "Consequently, only these will be kept for the further analysis for both the training and testing dataset (variables *features_train_reduced* and *features_test_reduced*):"
      ]
    },
    {
      "cell_type": "code",
      "execution_count": 11,
      "metadata": {
        "colab": {
          "base_uri": "https://localhost:8080/"
        },
        "id": "cZcnkTTREpCU",
        "outputId": "adff6e85-41a2-4b97-ac10-99da4a6ae116"
      },
      "outputs": [
        {
          "output_type": "stream",
          "name": "stdout",
          "text": [
            "Training subset shape before the recursive feature elimination:  (1348, 8)\n",
            "Training subset array shape after the recursive feature elimination:  (1348, 7)\n",
            "Test subset array shape after the recursive feature elimination:  (338, 7)\n"
          ]
        }
      ],
      "source": [
        "# Reduce features\n",
        "features_train_reduced = selector.transform(features_train)\n",
        "features_test_reduced = selector.transform(features_test)\n",
        "\n",
        "print(\"Training subset shape before the recursive feature elimination: \",features_train.shape)\n",
        "print(\"Training subset array shape after the recursive feature elimination: \", features_train_reduced.shape)\n",
        "print(\"Test subset array shape after the recursive feature elimination: \",features_test_reduced.shape)"
      ]
    },
    {
      "cell_type": "markdown",
      "metadata": {
        "id": "m1mNk_ZXIn0X"
      },
      "source": [
        "***\n",
        "\n",
        "### Hyperparameter tuning\n",
        "\n",
        "Random Forest is an algorithm with multiple hyperparameters which can have a range of values. In order to find the hyperparameters which would be most suitable for the current data, it is necessary to conduct hyperparameter tuning. The parameters which will be tuned in this case are:\n",
        "\n",
        "* n_estimators - number of decision trees in the random forest\n",
        "* max_features - number of features to consider at every split\n",
        "* max_depth - maximum number of levels in a tree\n",
        "* min_samples_split - minimum number of samples required to split a node\n",
        "* min_samples_leaf - minimum number of samples required at each leaf node\n",
        "\n",
        "The tuning is executed by applying a cross-validated evaluation of the model for different combinations of preliminary defined ranges for the parameters. The output is the model with the hyperparameters which exhibits the best R2 score compared to other parameter combinations.\n",
        "\n",
        "Define the hyperparameter ranges to be investigated as a parameter grid (dictionary *param_grid*):"
      ]
    },
    {
      "cell_type": "code",
      "execution_count": 12,
      "metadata": {
        "id": "odk-iNsbIsAH"
      },
      "outputs": [],
      "source": [
        "# Define value ranges for each hyperparameter\n",
        "n_estimators = [int(x) for x in np.linspace(start = 200, stop = 2000, num = 10)]\n",
        "\n",
        "# Keep the rest unchanged\n",
        "max_depth = [int(x) for x in np.linspace(10, 110, num=11)]\n",
        "max_depth.append(None)\n",
        "\n",
        "# Create the hyperparameter grid\n",
        "param_grid = {\n",
        "    'n_estimators': n_estimators,\n",
        "    'max_features': ['sqrt', 'log2', None] ,\n",
        "    'max_depth': max_depth,\n",
        "    'min_samples_split': [2, 5, 10],\n",
        "    'min_samples_leaf': [1, 2, 4]\n",
        "}"
      ]
    },
    {
      "cell_type": "markdown",
      "metadata": {
        "id": "4VzhKSI2IuKY"
      },
      "source": [
        "Define the RandomizedSearchCV object, which will evaluate the R2 scores of models with randomly picked combinations from the defined hyperparameter grid:"
      ]
    },
    {
      "cell_type": "code",
      "execution_count": 13,
      "metadata": {
        "id": "WvD45crPIwIY"
      },
      "outputs": [],
      "source": [
        "# define the cross-validation folds for the hyperparameter tuning\n",
        "nr.seed(1)\n",
        "inside_folds = ms.KFold(n_splits=5, shuffle = True, random_state=random_state_num)\n",
        "\n",
        "# Define the random forest regressor model object\n",
        "rf_tuner = RandomForestRegressor(random_state=random_state_num)\n",
        "\n",
        "# Perform a randomized search on the grid\n",
        "nr.seed(1)\n",
        "rf_model = ms.RandomizedSearchCV(estimator=rf_tuner, param_distributions = param_grid,\n",
        "                                 random_state=random_state_num, refit=True,\n",
        "                                 cv=inside_folds, scoring = 'r2', return_train_score=True, n_jobs=-1)"
      ]
    },
    {
      "cell_type": "markdown",
      "metadata": {
        "id": "RGqJ99NEIyi4"
      },
      "source": [
        "Once fitted to the training data, the `RandomizedSearchCV` will return the best Random Forest model in the best_estimator_ attribute—this model uses the hyperparameter combination that gave the highest R² score during testing.\n",
        "\n",
        "It's important to note that after finding the best combination, the model is automatically retrained on the full training set (thanks to refit=True in the `RandomizedSearchCV` setup).\n",
        "\n",
        "Finally, the best hyperparameters are printed."
      ]
    },
    {
      "cell_type": "code",
      "execution_count": 14,
      "metadata": {
        "colab": {
          "base_uri": "https://localhost:8080/"
        },
        "id": "rPimavu9I0PQ",
        "outputId": "0312bca9-a69a-4815-bcff-b9a1737753d7"
      },
      "outputs": [
        {
          "output_type": "stream",
          "name": "stdout",
          "text": [
            "Best Parameters: {'n_estimators': 1600, 'min_samples_split': 2, 'min_samples_leaf': 1, 'max_features': 'sqrt', 'max_depth': 20}\n"
          ]
        }
      ],
      "source": [
        "# Fit the grid search model object with cross-validation on the data\n",
        "rf_model.fit(features_train_reduced, np.ravel(labels_train))\n",
        "\n",
        "# Corrected variable name\n",
        "print(\"Best Parameters:\", rf_model.best_params_)"
      ]
    },
    {
      "cell_type": "markdown",
      "metadata": {
        "id": "PabO-TrCI2RA"
      },
      "source": [
        "Assign the best model to the model variable *rf_best_model* to be used further:"
      ]
    },
    {
      "cell_type": "code",
      "execution_count": 15,
      "metadata": {
        "id": "-SHBvIdXI3_R"
      },
      "outputs": [],
      "source": [
        "# pick the model with the best hyperparameter combination for further analysis\n",
        "rf_best_model = rf_model.best_estimator_"
      ]
    },
    {
      "cell_type": "markdown",
      "metadata": {
        "id": "ErGdFDUjI76w"
      },
      "source": [
        "***\n",
        "\n",
        "### Evaluation of the model with the best hyperparameters on the training subset with cross-validation\n",
        "\n",
        "The random forest model object *rf_best_model* with the most important features and the most suitable hyperparameters will be now evaluated on the training subset with cross-validation first:"
      ]
    },
    {
      "cell_type": "code",
      "execution_count": 16,
      "metadata": {
        "colab": {
          "base_uri": "https://localhost:8080/"
        },
        "id": "EjiM_--xI_Zg",
        "outputId": "b7a06924-b6ca-49b2-89a7-1df73e87032c"
      },
      "outputs": [
        {
          "output_type": "stream",
          "name": "stderr",
          "text": [
            "/usr/local/lib/python3.11/dist-packages/joblib/externals/loky/process_executor.py:782: UserWarning: A worker stopped while some jobs were given to the executor. This can be caused by a too short worker timeout or by a memory leak.\n",
            "  warnings.warn(\n"
          ]
        },
        {
          "output_type": "stream",
          "name": "stdout",
          "text": [
            "Mean R2 score of all CV folds = 0.986\n",
            "Standard deviation of the R2 score over all folds = 0.004\n",
            "R2 score for each fold:\n",
            "Fold  1    0.981\n",
            "Fold  2    0.979\n",
            "Fold  3    0.990\n",
            "Fold  4    0.987\n",
            "Fold  5    0.985\n",
            "Fold  6    0.993\n",
            "Fold  7    0.989\n",
            "Fold  8    0.982\n",
            "Fold  9    0.992\n",
            "Fold 10    0.986\n"
          ]
        }
      ],
      "source": [
        "# define the cross-validation folds for the evaluation\n",
        "nr.seed(1)\n",
        "outside_folds = ms.KFold(n_splits=10, shuffle = True, random_state=random_state_num)\n",
        "\n",
        "# Evaluate the model on the training subset with cross-validation\n",
        "nr.seed(1)\n",
        "cv_eval = cross_val_score(rf_best_model, features_train_reduced, labels_train, cv = outside_folds, n_jobs=-1)\n",
        "\n",
        "print('Mean R2 score of all CV folds = %4.3f' % np.mean(cv_eval))\n",
        "print('Standard deviation of the R2 score over all folds = %4.3f' % np.std(cv_eval))\n",
        "print('R2 score for each fold:')\n",
        "\n",
        "# print the R2 score for each fold\n",
        "for i, j in enumerate(cv_eval):\n",
        "    print('Fold %2d    %4.3f' % (i+1, j))"
      ]
    },
    {
      "cell_type": "markdown",
      "metadata": {
        "id": "k3ZoDSXxJBRw"
      },
      "source": [
        "#### Cross-Validation Results\n",
        "\n",
        "The model achieved strong and consistent performance across all folds:\n",
        "\n",
        "- **Mean R² score (10 folds):** 0.986  \n",
        "- **Standard deviation:** 0.004  \n",
        "\n",
        "While a high R² score (0.968) might initially suggest overfitting, it actually reflects the average across all folds, thanks to cross-validation. The narrow R² range and very low standard deviation (0.004) indicate the model performs consistently and generalizes well across different data splits.\n"
      ]
    },
    {
      "cell_type": "markdown",
      "metadata": {
        "id": "qh_aKhM6JDTB"
      },
      "source": [
        "***\n",
        "\n",
        "### Validate the model on the testing subset\n",
        "\n",
        "Finally, the model should be validated on previously unseen data, which is the initially separated test subset. The developed model *rf_best_model* is used to predict the CO2 emissions per capita based on the features of the test subset. The quality of the predictions is evaluated by the metrics R2 score, Mean Squared Error and Root Mean Squared Error:"
      ]
    },
    {
      "cell_type": "code",
      "execution_count": 17,
      "metadata": {
        "colab": {
          "base_uri": "https://localhost:8080/"
        },
        "id": "KOliJkgQJE_Y",
        "outputId": "e40b060a-b184-4a99-d2d3-af00f7f42f11"
      },
      "outputs": [
        {
          "output_type": "stream",
          "name": "stdout",
          "text": [
            "R2 = 0.9834303770922288, Mean Squared Error (MSE) = 0.31131625203288366, Root Mean Squared Error (RMSE) = 0.5579572134428263\n"
          ]
        }
      ],
      "source": [
        "# make predictions from the features of the testing subset\n",
        "predictions = rf_best_model.predict(features_test_reduced)\n",
        "\n",
        "# calculate the metrics basing on the predicted and true values for the test subset\n",
        "r2 = r2_score(y_true=labels_test, y_pred=predictions)\n",
        "mse = mean_squared_error(y_true=labels_test, y_pred=predictions)\n",
        "rmse = np.sqrt(mse)\n",
        "\n",
        "print(f\"R2 = {r2}, Mean Squared Error (MSE) = {mse}, Root Mean Squared Error (RMSE) = {rmse}\")"
      ]
    },
    {
      "cell_type": "markdown",
      "metadata": {
        "id": "Alty7DsnJIOA"
      },
      "source": [
        "### Model Evaluation & Prediction Quality\n",
        "\n",
        "The obtained R² score of **0.986** may seem optimistic at first. However, several steps were taken to reduce overfitting and improve generalization:\n",
        "\n",
        "- Dataset split with **80% used for training**\n",
        "- **Cross-validation** during feature selection, hyperparameter tuning, and model training\n",
        "\n",
        "Note: **MSE and RMSE** values are not directly comparable to the dependent variable (CO₂ per capita), which ranges from **0 to 20 tons**.\n",
        "\n",
        "To further evaluate performance, a **regression plot** is used to visualize predicted vs. actual CO₂ emissions per capita from the test set.\n"
      ]
    },
    {
      "cell_type": "code",
      "execution_count": 18,
      "metadata": {
        "colab": {
          "base_uri": "https://localhost:8080/",
          "height": 797
        },
        "id": "ZNtUhschJG5o",
        "outputId": "619fffc9-0878-458d-9ba6-0aac4ad1e481"
      },
      "outputs": [
        {
          "output_type": "display_data",
          "data": {
            "text/plain": [
              "<Figure size 2000x1500 with 1 Axes>"
            ],
            "image/png": "[encoded data removed]"
          },
          "metadata": {}
        }
      ],
      "source": [
        "import seaborn as sns\n",
        "# plot predicted vs true values of the test subset\n",
        "\n",
        "f,ax=plt.subplots(figsize=(20,15))\n",
        "sns.set_theme(font_scale=2)\n",
        "\n",
        "sns.regplot(x=predictions, y=np.transpose(labels_test)[0,:], fit_reg=True)\n",
        "plt.xlabel(\"CO2 emissions per capita [t] - predicted\")\n",
        "plt.ylabel(\"CO2 emissions per capita [t] - true\")\n",
        "plt.title(\"Correlation coefficient R=\"+str(round(np.corrcoef(predictions,np.transpose(labels_test)[0,:])[0,1],2)))\n",
        "plt.show()"
      ]
    },
    {
      "cell_type": "markdown",
      "metadata": {
        "id": "nZfda4-fJNoQ"
      },
      "source": [
        "The model demonstrates excellent predictive performance for CO₂ emissions per capita."
      ]
    },
    {
      "cell_type": "markdown",
      "metadata": {
        "id": "-3QmJtDjJPcI"
      },
      "source": [
        "### Final Model Performance Summary\n",
        "\n",
        "All key steps were taken to ensure the model generalizes well to unseen data. It achieved a high average **R² score of 0.98** across the cross-validated training set and each fold. Test set predictions also align closely with true values, with the same **R² = 0.98** and no major outliers.\n",
        "\n",
        "While confidence intervals were not calculated, the large test set size (**1,181 observations**) reinforces the model’s robustness and reliability.\n",
        "\n",
        "**Conclusion:**  \n",
        "The model can predict a country’s annual CO₂ emissions per capita with **98.2% R² accuracy**, using key features like:\n",
        "- Cereal yield  \n",
        "- Protected land percentage  \n",
        "- Energy use per capita  \n",
        "- Urban population percentage  \n",
        "- Population growth rate\n",
        "\n",
        "\n",
        "***"
      ]
    },
    {
      "cell_type": "code",
      "execution_count": 19,
      "metadata": {
        "colab": {
          "base_uri": "https://localhost:8080/"
        },
        "id": "SNnw_ezcu3fO",
        "outputId": "3082fc7e-d572-42b5-c4e3-909d529883cc"
      },
      "outputs": [
        {
          "output_type": "stream",
          "name": "stdout",
          "text": [
            "Model saved to 'forecasting_co2_emmision.pkl\n"
          ]
        }
      ],
      "source": [
        "import joblib\n",
        "\n",
        "# Save the trained model to file\n",
        "joblib.dump(rf_best_model, 'forecasting_co2_emmision.pkl')\n",
        "print(\"Model saved to 'forecasting_co2_emmision.pkl\")"
      ]
    },
    {
      "cell_type": "code",
      "execution_count": 20,
      "metadata": {
        "colab": {
          "base_uri": "https://localhost:8080/"
        },
        "id": "OIACFo1Ou4Fu",
        "outputId": "f18ffd98-de9d-4b84-d7f6-6b70372613dc"
      },
      "outputs": [
        {
          "output_type": "stream",
          "name": "stdout",
          "text": [
            "📂 Model loaded successfully.\n"
          ]
        }
      ],
      "source": [
        "# Load model from file\n",
        "loaded_model = joblib.load('forecasting_co2_emmision.pkl')\n",
        "print(\"📂 Model loaded successfully.\")"
      ]
    },
    {
      "cell_type": "markdown",
      "metadata": {
        "id": "wJ16Zvzs0_0w"
      },
      "source": [
        "### Calculating Compound Annual Growth Rates (CAGR) for Key Features\n",
        "\n",
        "To assess long-term trends in country-level development indicators, we compute the **Compound Annual Growth Rate (CAGR)** for each of the selected features:\n",
        "\n",
        "- `cereal_yield`\n",
        "- `gni_per_cap`\n",
        "- `en_per_cap`\n",
        "- `pop_urb_aggl_perc`\n",
        "- `prot_area_perc`\n",
        "- `pop_growth_perc`\n",
        "- `urb_pop_growth_perc`\n",
        "\n",
        "The process involves:\n",
        "- Filtering the dataset for a predefined list of selected countries.\n",
        "- Sorting the data by year for each country.\n",
        "- Calculating the CAGR for each feature based on its value in the earliest and latest available years.\n",
        "- Skipping entries where data is missing, invalid, or where the time range is insufficient.\n",
        "\n",
        "This analysis helps identify whether each feature has increased or decreased over time in each country, offering insights into national trends that may impact CO₂ emissions.\n",
        "\n",
        "The final output displays feature-wise growth rates (in percentages) for each country in the form:\n",
        "\n"
      ]
    },
    {
      "cell_type": "code",
      "execution_count": 21,
      "metadata": {
        "id": "_zF3jVCm0PP3"
      },
      "outputs": [],
      "source": [
        "# List of selected features\n",
        "selected_features = ['cereal_yield', 'gni_per_cap', 'en_per_cap',\n",
        "                     'pop_urb_aggl_perc', 'prot_area_perc',\n",
        "                     'pop_growth_perc', 'urb_pop_growth_perc']\n"
      ]
    },
    {
      "cell_type": "code",
      "execution_count": 22,
      "metadata": {
        "id": "Q1uZo74k0Pdn"
      },
      "outputs": [],
      "source": [
        "selected_countries = ['IND', 'USA', 'PAK', 'RUS', 'NZL']\n",
        "\n",
        "# Filter the dataset to include only the selected countries\n",
        "df_filtered = data[data['country'].isin(selected_countries)]\n",
        "\n",
        "# Dictionary to store the growth rates for each country\n",
        "growth_rates = {}\n",
        "\n",
        "# Loop over each selected country\n",
        "for country in selected_countries:\n",
        "    # Get data for the current country and sort it by year\n",
        "    country_data = data[(data['country'] == country)].sort_values('year')\n",
        "\n",
        "    # Identify the start and end year for the country\n",
        "    start_year = country_data['year'].min()\n",
        "    end_year = country_data['year'].max()\n",
        "    years = end_year - start_year  # Total number of years between start and end\n",
        "\n",
        "    # Dictionary to store growth rates of all features for the current country\n",
        "    country_growth = {}\n",
        "\n",
        "    # Skip this country if the time span is not valid (e.g., only one year of data)\n",
        "    if years <= 0:\n",
        "        print(f\"Skipping {country} due to insufficient year range.\")\n",
        "        continue\n",
        "\n",
        "    # Loop through each selected feature\n",
        "    for feature in selected_features:\n",
        "        # Get the feature value in the start year\n",
        "        start_value = country_data[country_data['year'] == start_year][feature].values\n",
        "        # Get the feature value in the end year\n",
        "        end_value = country_data[country_data['year'] == end_year][feature].values\n",
        "\n",
        "        # Skip if either value is missing\n",
        "        if len(start_value) == 0 or len(end_value) == 0:\n",
        "            continue\n",
        "\n",
        "        # Extract scalar values from arrays\n",
        "        start_value = start_value[0]\n",
        "        end_value = end_value[0]\n",
        "\n",
        "        # Skip if values are non-positive or not finite (e.g., NaN, inf)\n",
        "        if start_value <= 0 or end_value <= 0 or not np.isfinite(start_value) or not np.isfinite(end_value):\n",
        "            continue\n",
        "\n",
        "        # Compute the Compound Annual Growth Rate (CAGR)\n",
        "        cagr = (end_value / start_value) ** (1 / years) - 1\n",
        "        # Store the result in the country-specific dictionary\n",
        "        country_growth[feature] = cagr\n",
        "\n",
        "    # Save the growth rates of all features for the current country\n",
        "    growth_rates[country] = country_growth"
      ]
    },
    {
      "cell_type": "code",
      "execution_count": 23,
      "metadata": {
        "colab": {
          "base_uri": "https://localhost:8080/"
        },
        "id": "1qYXvj7ivzG_",
        "outputId": "08e1f854-ba09-46be-a480-bd8d0220e627"
      },
      "outputs": [
        {
          "output_type": "stream",
          "name": "stdout",
          "text": [
            "\n",
            "Growth Rates (CAGR) from 1991 to 2008:\n",
            "\n",
            "IND\n",
            "  • cereal_yield: +1.94%\n",
            "  • gni_per_cap: +6.85%\n",
            "  • en_per_cap: +2.12%\n",
            "  • pop_urb_aggl_perc: +1.26%\n",
            "  • prot_area_perc: +0.35%\n",
            "  • pop_growth_perc: −2.28%\n",
            "  • urb_pop_growth_perc: −1.26%\n",
            "\n",
            "USA\n",
            "  • cereal_yield: +2.28%\n",
            "  • gni_per_cap: +4.26%\n",
            "  • en_per_cap: −0.12%\n",
            "  • pop_urb_aggl_perc: +0.40%\n",
            "  • prot_area_perc: +0.01%\n",
            "  • pop_growth_perc: −2.16%\n",
            "  • urb_pop_growth_perc: −2.15%\n",
            "\n",
            "PAK\n",
            "  • cereal_yield: +2.29%\n",
            "  • gni_per_cap: +5.00%\n",
            "  • en_per_cap: +1.50%\n",
            "  • pop_urb_aggl_perc: +0.84%\n",
            "  • prot_area_perc: +0.01%\n",
            "  • pop_growth_perc: −2.46%\n",
            "  • urb_pop_growth_perc: −1.01%\n",
            "\n",
            "RUS\n",
            "  • cereal_yield: +1.99%\n",
            "  • gni_per_cap: +7.41%\n",
            "  • en_per_cap: −0.61%\n",
            "  • pop_urb_aggl_perc: +0.48%\n",
            "  • prot_area_perc: +0.46%\n",
            "\n",
            "NZL\n",
            "  • cereal_yield: +1.96%\n",
            "  • gni_per_cap: +5.00%\n",
            "  • en_per_cap: +0.39%\n",
            "  • pop_urb_aggl_perc: +1.15%\n",
            "  • prot_area_perc: +0.17%\n",
            "  • pop_growth_perc: −2.04%\n",
            "  • urb_pop_growth_perc: −1.83%\n",
            "\n"
          ]
        }
      ],
      "source": [
        "# Display the calculated growth rates in a readable format\n",
        "print(\"\\nGrowth Rates (CAGR) from {} to {}:\\n\".format(start_year, end_year))\n",
        "\n",
        "# Loop through each country and its corresponding growth rate dictionary\n",
        "for country, features in growth_rates.items():\n",
        "    print(f\"{country}\")  # Print the country name with an icon\n",
        "\n",
        "    # Loop through each feature and its CAGR value\n",
        "    for feature, rate in features.items():\n",
        "        # Determine whether to display a plus or minus sign\n",
        "        sign = '+' if rate >= 0 else '−'\n",
        "\n",
        "        # Print the feature name and its growth rate percentage (formatted to two decimal places)\n",
        "        print(f\"  • {feature}: {sign}{abs(rate * 100):.2f}%\")\n",
        "\n",
        "    # Add a line break between countries for readability\n",
        "    print()"
      ]
    },
    {
      "cell_type": "markdown",
      "source": [
        "## 📌 CAGR Analysis (1991–2008)\n",
        "\n",
        "### Key Insights by Country:\n",
        "\n",
        "- **Economic Growth**  \n",
        "  All countries showed GNI per capita growth. Russia (+7.41%), India (+6.85%), and Pakistan/New Zealand (+5.00%) led the way, highlighting strong economic progress.\n",
        "\n",
        "- **Agriculture**  \n",
        "  Cereal yields rose in all cases, led by Pakistan (+2.29%) and the USA (+2.28%), pointing to steady improvements in farming methods.\n",
        "\n",
        "- **Energy Use**  \n",
        "  India and Pakistan reported rising per capita energy use. In contrast, Russia (−0.61%) and the USA (−0.12%) saw slight drops—possibly due to efficiency gains or industrial shifts.\n",
        "\n",
        "- **Urbanization**  \n",
        "  Urban population percentages grew moderately, while overall and urban population growth rates declined—suggesting slower population expansion and urban migration.\n",
        "\n",
        "- **Protected Land Areas**  \n",
        "  Slight gains in land protection were seen, especially in Russia (+0.46%) and India (+0.35%), indicating slow progress in conservation.\n",
        "\n",
        "**Summary**:  \n",
        "The data reflects growth in economy and agriculture, mixed energy trends, urban transition, and modest environmental protection. Population metrics hint at demographic shifts ahead.\n",
        "\n",
        "---\n",
        "\n",
        "## 🔮 Forecasting CO₂ Emissions per Capita (Next 20 Years)\n",
        "\n",
        "This section uses the trained Random Forest model to estimate CO₂ emissions per capita through these steps:\n",
        "\n",
        "1. **Timeline Setup**  \n",
        "   Forecast extends 20 years beyond the dataset's latest entry.\n",
        "\n",
        "2. **Base Year Reference**  \n",
        "   The most recent data row is pulled per country.\n",
        "\n",
        "3. **Feature Growth Simulation**  \n",
        "   Each feature is grown yearly using its historical CAGR.\n",
        "\n",
        "4. **CO₂ Prediction**  \n",
        "   The model predicts emissions based on yearly updated features.\n",
        "\n",
        "5. **Results & Visualization**  \n",
        "   Forecasted values are stored, plotted, and displayed. A table shows India’s last 5 predicted years for reference."
      ],
      "metadata": {
        "id": "PIoE73_snSSZ"
      }
    },
    {
      "cell_type": "code",
      "execution_count": 24,
      "metadata": {
        "id": "iYB7zjb_0M95"
      },
      "outputs": [],
      "source": [
        "# Define the range of years to forecast (next 20 years beyond the last available year)\n",
        "last_year = data['year'].max()\n",
        "future_years = list(range(last_year + 1, last_year + 21))"
      ]
    },
    {
      "cell_type": "code",
      "execution_count": 25,
      "metadata": {
        "id": "0dWzyyVC0NA5"
      },
      "outputs": [],
      "source": [
        "# Initialize a list to store forecasted results\n",
        "forecast_results = []\n",
        "\n",
        "# Loop through each selected country for prediction\n",
        "for country in selected_countries:\n",
        "    country_data = data[(data['country'] == country)].sort_values('year')\n",
        "\n",
        "    # Skip countries with missing feature values\n",
        "    if country_data[selected_features].dropna().empty:\n",
        "        print(f\"Skipping {country} due to missing values.\")\n",
        "        continue\n",
        "\n",
        "    # Take the latest complete record (most recent year) for the country\n",
        "    latest_row = country_data[selected_features].dropna().iloc[-1].copy()\n",
        "\n",
        "    # Forecast for each year into the future\n",
        "    for year in future_years:\n",
        "        # Apply the previously calculated CAGR to each feature\n",
        "        for feature in selected_features:\n",
        "            growth_rate = growth_rates.get(country, {}).get(feature, 0.0)\n",
        "            latest_row[feature] *= (1 + growth_rate)\n",
        "\n",
        "        # Use trained model to predict CO₂ emissions per capita\n",
        "        input_features = latest_row.values.reshape(1, -1)\n",
        "        predicted_co2 = loaded_model.predict(input_features)[0]\n",
        "\n",
        "        # Store the forecast result\n",
        "        forecast_results.append({\n",
        "            'country': country,\n",
        "            'year': year,\n",
        "            'co2_percap': predicted_co2\n",
        "        })"
      ]
    },
    {
      "cell_type": "code",
      "execution_count": null,
      "metadata": {
        "colab": {
          "base_uri": "https://localhost:8080/",
          "height": 655
        },
        "id": "yhEzqP5Dv8Do",
        "outputId": "ec5ce01e-6d06-4fce-d5e2-ab08bd0f38e7"
      },
      "outputs": [
        {
          "name": "stdout",
          "output_type": "stream",
          "text": [
            "📈 Forecasted CO₂ Emissions per Capita (Next 20 Years)\n"
          ]
        },
        {
          "name": "stderr",
          "output_type": "stream",
          "text": [
            "/var/folders/tx/wk7wgjjj50l10ddtt3kczpnh0000gn/T/ipykernel_38012/4163859294.py:13: UserWarning: Glyph 8322 (\\N{SUBSCRIPT TWO}) missing from font(s) Arial.\n",
            "  plt.tight_layout()\n",
            "/Library/Frameworks/Python.framework/Versions/3.12/lib/python3.12/site-packages/IPython/core/pylabtools.py:170: UserWarning: Glyph 8322 (\\N{SUBSCRIPT TWO}) missing from font(s) Arial.\n",
            "  fig.canvas.print_figure(bytes_io, **kw)\n"
          ]
        },
        {
          "data": {
            "image/png": "[encoded data removed]",
            "text/plain": [
              "<Figure size 1200x600 with 1 Axes>"
            ]
          },
          "metadata": {},
          "output_type": "display_data"
        },
        {
          "name": "stdout",
          "output_type": "stream",
          "text": [
            "\n",
            "📊 Forecasted CO₂ per Capita for Last 5 Years in Forecast Period (India):\n",
            "\n",
            "   country  year  co2_percap\n",
            "15     IND  2024    2.194019\n",
            "16     IND  2025    2.190429\n",
            "17     IND  2026    2.272474\n",
            "18     IND  2027    2.401276\n",
            "19     IND  2028    2.555614\n"
          ]
        }
      ],
      "source": [
        "# Convert the list of predictions into a DataFrame\n",
        "df_forecast = pd.DataFrame(forecast_results)\n",
        "\n",
        "# Plot forecasted CO₂ per capita for all countries over the next 20 years\n",
        "print('📈 Forecasted CO₂ Emissions per Capita (Next 20 Years)')\n",
        "plt.figure(figsize=(12, 6))\n",
        "sns.lineplot(data=df_forecast, x='year', y='co2_percap', hue='country', marker='o')\n",
        "plt.title('Forecasted CO₂ Emissions per Capita (Next 20 Years)', fontsize=14)\n",
        "plt.xlabel('Year', fontsize=12)\n",
        "plt.ylabel('CO₂ per Capita (metric tons)', fontsize=12)\n",
        "plt.xticks(rotation=45, ha='right')\n",
        "plt.grid(True)\n",
        "plt.tight_layout()\n",
        "plt.show()\n",
        "\n",
        "# Print the forecast values for the last 5 years for India\n",
        "print(\"\\n📊 Forecasted CO₂ per Capita for Last 5 Years in Forecast Period (India):\\n\")\n",
        "print(df_forecast[df_forecast['country'] == 'IND'].sort_values(by='year').tail(5))"
      ]
    },
    {
      "cell_type": "markdown",
      "source": [
        "## 📊 CO₂ Emissions Forecast – Country Comparison (Next 20 Years)\n",
        "\n",
        "This plot shows projected CO₂ emissions per capita for five countries: **USA, Russia (RUS), New Zealand (NZL), India (IND), and Pakistan (PAK)**.\n",
        "\n",
        "### 🔍 Highlights:\n",
        "\n",
        "- **USA**:  \n",
        "  Starts highest (~17 metric tons) and declines steadily, but remains the top emitter per person.\n",
        "\n",
        "- **Russia**:  \n",
        "  Emissions stay mostly flat with a mild decrease — hinting at modest change.\n",
        "\n",
        "- **New Zealand**:  \n",
        "  Shows a slow rise, possibly linked to increased industrial or transport activity.\n",
        "\n",
        "- **India & Pakistan**:  \n",
        "  Start low (~1.5–2 metric tons) but gradually rise, reflecting growing energy use tied to economic development.\n",
        "\n",
        "### 🌍 Global Pattern:\n",
        "\n",
        "Developed nations (USA, RUS) show declining trends — likely due to cleaner tech and energy policies.  \n",
        "Developing countries (IND, PAK) are on a growth path — indicating industrial progress and rising demand.  \n",
        "\n",
        "**Conclusion**:  \n",
        "Emissions patterns are converging globally, but at different rates and starting points."
      ],
      "metadata": {
        "id": "GRD84pipncjg"
      }
    }
  ],
  "metadata": {
    "accelerator": "GPU",
    "colab": {
      "gpuType": "T4",
      "provenance": []
    },
    "kernelspec": {
      "display_name": "Python 3",
      "name": "python3"
    },
    "language_info": {
      "codemirror_mode": {
        "name": "ipython",
        "version": 3
      },
      "file_extension": ".py",
      "mimetype": "text/x-python",
      "name": "python",
      "nbconvert_exporter": "python",
      "pygments_lexer": "ipython3",
      "version": "3.12.8"
    }
  },
  "nbformat": 4,
  "nbformat_minor": 0
}